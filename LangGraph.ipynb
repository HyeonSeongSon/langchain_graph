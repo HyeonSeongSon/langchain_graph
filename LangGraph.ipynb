{
 "cells": [
  {
   "cell_type": "code",
   "execution_count": 1,
   "id": "414ea471",
   "metadata": {},
   "outputs": [
    {
     "data": {
      "text/plain": [
       "True"
      ]
     },
     "execution_count": 1,
     "metadata": {},
     "output_type": "execute_result"
    }
   ],
   "source": [
    "from dotenv import load_dotenv\n",
    "\n",
    "load_dotenv()"
   ]
  },
  {
   "cell_type": "markdown",
   "id": "92b061c8",
   "metadata": {},
   "source": [
    "### LangGraph 주요 컴포넌트"
   ]
  },
  {
   "cell_type": "markdown",
   "id": "916af0d2",
   "metadata": {},
   "source": [
    "```\n",
    "스테이트: 그래프의 상태 표현\n",
    "```"
   ]
  },
  {
   "cell_type": "code",
   "execution_count": 2,
   "id": "4fabf1af",
   "metadata": {},
   "outputs": [
    {
     "name": "stderr",
     "output_type": "stream",
     "text": [
      "c:\\Users\\user\\anaconda3\\envs\\skn\\Lib\\site-packages\\IPython\\core\\interactiveshell.py:3699: LangChainDeprecationWarning: As of langchain-core 0.3.0, LangChain uses pydantic v2 internally. The langchain_core.pydantic_v1 module was a compatibility shim for pydantic v1, and should no longer be used. Please update the code to import from Pydantic directly.\n",
      "\n",
      "For example, replace imports like: `from langchain_core.pydantic_v1 import BaseModel`\n",
      "with: `from pydantic import BaseModel`\n",
      "or the v1 compatibility namespace if you are working in a code base that has not been fully upgraded to pydantic 2 yet. \tfrom pydantic.v1 import BaseModel\n",
      "\n",
      "  exec(code_obj, self.user_global_ns, self.user_ns)\n"
     ]
    }
   ],
   "source": [
    "import operator\n",
    "from typing import Annotated\n",
    "from langchain_core.pydantic_v1 import BaseModel, Field\n",
    "\n",
    "class State(BaseModel):\n",
    "  query: str = Field(..., description='사용자의 질문')\n",
    "  current_role: str = Field(default='', description='선정된 답변 역할')\n",
    "  messages: Annotated[list[str], operator.add] = Field(defualt=[], description='답변 이력')\n",
    "  current_judge: bool = Field(default=False, description='품질 검사 결과')\n",
    "  judgement_reason: str = Field(deafult='', description='품질 검사 판정 이유')"
   ]
  },
  {
   "cell_type": "code",
   "execution_count": 3,
   "id": "42840267",
   "metadata": {},
   "outputs": [],
   "source": [
    "from langgraph.graph import StateGraph\n",
    "\n",
    "workflow = StateGraph(State)"
   ]
  },
  {
   "cell_type": "markdown",
   "id": "ba4e522e",
   "metadata": {},
   "source": [
    "```\n",
    "노드: 그래프를 구성하는 처리 단위\n",
    "```\n",
    "노드의 지정 방법"
   ]
  },
  {
   "cell_type": "code",
   "execution_count": null,
   "id": "a3db81e6",
   "metadata": {},
   "outputs": [],
   "source": [
    "# 함수 또는 Runnable만 지정하는 예\n",
    "# 이 경우 노드 이름 'answering_node'가 됨\n",
    "# 방법1 : workflow.add_node(answering_node)\n",
    "\n",
    "# answering_node이라는 이름의 노드를 정의\n",
    "# 노드 내 처리는 answering_ndoe 함수가 수행\n",
    "# 방법2 : workflow.add_node('answering_node', answering_node)"
   ]
  },
  {
   "cell_type": "markdown",
   "id": "9aa2afea",
   "metadata": {},
   "source": [
    "노드의 구현 방법"
   ]
  },
  {
   "cell_type": "code",
   "execution_count": 6,
   "id": "ce714079",
   "metadata": {},
   "outputs": [],
   "source": [
    "from typing import Any\n",
    "\n",
    "def answering_node(state: State) -> dict[str, Any]:\n",
    "  query = state.query\n",
    "  role = state.current_role\n",
    "\n",
    "  # 사용자 질문 내용과 선택된 역할을 바탕으로 답변을 생성하는 로직\n",
    "  generated_message = \"...생성 처리...\"\n",
    "\n",
    "  # 생성된 답변으로 스테이트 업데이트\n",
    "  return {'messages': [generated_message]}\n",
    "\n",
    "def check_node(state: State) -> dict[str, Any]:\n",
    "  query = state.query\n",
    "  message = state.messages[-1]\n",
    "\n",
    "  # 사용자의 질문 내용과 답변 내용에서 품질 검사를 수행하는 처리\n",
    "  judge = \"...판정 결과...\"\n",
    "  reason = \"...판정 이유...\"\n",
    "\n",
    "  # 생성된 답변으로 스테이트 업데이트\n",
    "  return {\"current_judge\": judge, 'judgement_reason': reason}"
   ]
  },
  {
   "cell_type": "markdown",
   "id": "0a0c67a0",
   "metadata": {},
   "source": [
    "```\n",
    "엣지: 노드 간의 연결\n",
    "```"
   ]
  },
  {
   "cell_type": "markdown",
   "id": "1037e2fb",
   "metadata": {},
   "source": [
    "엔트리 포인트"
   ]
  },
  {
   "cell_type": "code",
   "execution_count": null,
   "id": "d52c5264",
   "metadata": {},
   "outputs": [
    {
     "data": {
      "text/plain": [
       "<langgraph.graph.state.StateGraph at 0x248c17f24d0>"
      ]
     },
     "execution_count": 7,
     "metadata": {},
     "output_type": "execute_result"
    }
   ],
   "source": [
    "# 그래프 시작 노드 지정 엣지\n",
    "\n",
    "workflow.set_entry_point('selection')\n",
    "workflow.add_edge('START', 'selection')"
   ]
  },
  {
   "cell_type": "markdown",
   "id": "0135e3be",
   "metadata": {},
   "source": [
    "엣지"
   ]
  },
  {
   "cell_type": "code",
   "execution_count": null,
   "id": "d82d0175",
   "metadata": {},
   "outputs": [],
   "source": [
    "# 특정 노드에서 다른 노드로 무조건 전이하는 엣지\n",
    "workflow.add_edge('selection', 'answering')"
   ]
  },
  {
   "cell_type": "markdown",
   "id": "15d90fd7",
   "metadata": {},
   "source": [
    "조건부 엣지"
   ]
  },
  {
   "cell_type": "code",
   "execution_count": null,
   "id": "93951356",
   "metadata": {},
   "outputs": [],
   "source": [
    "# 조건에 기반하여 전이할 노드를 결정하는 엣지\n",
    "from langgraph.graph import END\n",
    "\n",
    "workflow.add_conditional_edges(\n",
    "  'check',\n",
    "  lambda state: state.current_judge,\n",
    "  {True: END, False: 'selection'}\n",
    ")"
   ]
  },
  {
   "cell_type": "markdown",
   "id": "846d0499",
   "metadata": {},
   "source": [
    "```\n",
    "컴파일된 그래프\n",
    "```"
   ]
  },
  {
   "cell_type": "code",
   "execution_count": null,
   "id": "a1242b18",
   "metadata": {},
   "outputs": [],
   "source": [
    "# 정의된 그래프는 complie함수를 통해 실행 가능한 CompliedGraph 인스턴스로 변환\n",
    "complied = workflow.compile()"
   ]
  },
  {
   "cell_type": "markdown",
   "id": "b560304b",
   "metadata": {},
   "source": [
    "invoke 함수"
   ]
  },
  {
   "cell_type": "code",
   "execution_count": null,
   "id": "2ab9f92f",
   "metadata": {},
   "outputs": [],
   "source": [
    "# invoke 함수를 사용하면 그래프 내의 모든 처리가 실행된 후 최종 값이 반환\n",
    "initial_state = State(query='생성형 AI에 관해 알려주세요')\n",
    "result = complied.invoke(initial_state)"
   ]
  },
  {
   "cell_type": "markdown",
   "id": "53403a87",
   "metadata": {},
   "source": [
    "ainvoke 함수"
   ]
  },
  {
   "cell_type": "code",
   "execution_count": null,
   "id": "d301f0a8",
   "metadata": {},
   "outputs": [],
   "source": [
    "# 작동은 invoke 함수와 동일하지만, ainvoke 함수를 사용하면 비동기 함수로 실행할 수 있음\n",
    "initial_state = State(query='생성 AI에 관해 알려주세요')\n",
    "result = await complied.ainvoke(initial_state)"
   ]
  },
  {
   "cell_type": "markdown",
   "id": "68904f27",
   "metadata": {},
   "source": [
    "stream 함수"
   ]
  },
  {
   "cell_type": "code",
   "execution_count": null,
   "id": "3bcc79b6",
   "metadata": {},
   "outputs": [],
   "source": [
    "# 노드 실행 시 스테이트를 순차적으로 가져올 수 있음\n",
    "initial_state = State(query='생성 AI에 관해 알려주세요')\n",
    "for step in compiled.stream(initial_state):\n",
    "  print(step)"
   ]
  }
 ],
 "metadata": {
  "kernelspec": {
   "display_name": "skn",
   "language": "python",
   "name": "python3"
  },
  "language_info": {
   "codemirror_mode": {
    "name": "ipython",
    "version": 3
   },
   "file_extension": ".py",
   "mimetype": "text/x-python",
   "name": "python",
   "nbconvert_exporter": "python",
   "pygments_lexer": "ipython3",
   "version": "3.11.13"
  }
 },
 "nbformat": 4,
 "nbformat_minor": 5
}
