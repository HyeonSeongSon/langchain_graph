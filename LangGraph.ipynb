{
 "cells": [
  {
   "cell_type": "markdown",
   "id": "92b061c8",
   "metadata": {},
   "source": [
    "### LangGraph 주요 컴포넌트"
   ]
  },
  {
   "cell_type": "markdown",
   "id": "916af0d2",
   "metadata": {},
   "source": [
    "```\n",
    "스테이트: 그래프의 상태 표현\n",
    "```"
   ]
  },
  {
   "cell_type": "code",
   "execution_count": 1,
   "id": "4fabf1af",
   "metadata": {},
   "outputs": [
    {
     "name": "stderr",
     "output_type": "stream",
     "text": [
      "c:\\Users\\user\\anaconda3\\envs\\skn_after_study\\Lib\\site-packages\\IPython\\core\\interactiveshell.py:3699: LangChainDeprecationWarning: As of langchain-core 0.3.0, LangChain uses pydantic v2 internally. The langchain_core.pydantic_v1 module was a compatibility shim for pydantic v1, and should no longer be used. Please update the code to import from Pydantic directly.\n",
      "\n",
      "For example, replace imports like: `from langchain_core.pydantic_v1 import BaseModel`\n",
      "with: `from pydantic import BaseModel`\n",
      "or the v1 compatibility namespace if you are working in a code base that has not been fully upgraded to pydantic 2 yet. \tfrom pydantic.v1 import BaseModel\n",
      "\n",
      "  exec(code_obj, self.user_global_ns, self.user_ns)\n"
     ]
    }
   ],
   "source": [
    "import operator\n",
    "from typing import Annotated\n",
    "from langchain_core.pydantic_v1 import BaseModel, Field\n",
    "\n",
    "class State(BaseModel):\n",
    "  query: str = Field(..., description='사용자의 질문')\n",
    "  current_role: str = Field(default='', description='선정된 답변 역할')\n",
    "  messages: Annotated[list[str], operator.add] = Field(defualt=[], description='답변 이력')\n",
    "  current_judge: bool = Field(default=False, description='품질 검사 결과')\n",
    "  judgement_reason: str = Field(deafult='', description='품질 검사 판정 이유')"
   ]
  },
  {
   "cell_type": "code",
   "execution_count": 3,
   "id": "42840267",
   "metadata": {},
   "outputs": [],
   "source": [
    "from langgraph.graph import StateGraph\n",
    "\n",
    "workflow = StateGraph(State)"
   ]
  },
  {
   "cell_type": "markdown",
   "id": "ba4e522e",
   "metadata": {},
   "source": [
    "```\n",
    "노드: 그래프를 구성하는 처리 단위\n",
    "```\n",
    "노드의 지정 방법"
   ]
  },
  {
   "cell_type": "code",
   "execution_count": null,
   "id": "a3db81e6",
   "metadata": {},
   "outputs": [],
   "source": [
    "# 함수 또는 Runnable만 지정하는 예\n",
    "# 이 경우 노드 이름 'answering_node'가 됨\n",
    "# 방법1 : workflow.add_node(answering_node)\n",
    "\n",
    "# answering_node이라는 이름의 노드를 정의\n",
    "# 노드 내 처리는 answering_ndoe 함수가 수행\n",
    "# 방법2 : workflow.add_node('answering_node', answering_node)"
   ]
  },
  {
   "cell_type": "markdown",
   "id": "9aa2afea",
   "metadata": {},
   "source": [
    "노드의 구현 방법"
   ]
  },
  {
   "cell_type": "code",
   "execution_count": 6,
   "id": "ce714079",
   "metadata": {},
   "outputs": [],
   "source": [
    "from typing import Any\n",
    "\n",
    "def answering_node(state: State) -> dict[str, Any]:\n",
    "  query = state.query\n",
    "  role = state.current_role\n",
    "\n",
    "  # 사용자 질문 내용과 선택된 역할을 바탕으로 답변을 생성하는 로직\n",
    "  generated_message = \"...생성 처리...\"\n",
    "\n",
    "  # 생성된 답변으로 스테이트 업데이트\n",
    "  return {'messages': [generated_message]}"
   ]
  },
  {
   "cell_type": "code",
   "execution_count": null,
   "id": "d52c5264",
   "metadata": {},
   "outputs": [],
   "source": []
  }
 ],
 "metadata": {
  "kernelspec": {
   "display_name": "skn_after_study",
   "language": "python",
   "name": "python3"
  },
  "language_info": {
   "codemirror_mode": {
    "name": "ipython",
    "version": 3
   },
   "file_extension": ".py",
   "mimetype": "text/x-python",
   "name": "python",
   "nbconvert_exporter": "python",
   "pygments_lexer": "ipython3",
   "version": "3.12.11"
  }
 },
 "nbformat": 4,
 "nbformat_minor": 5
}
