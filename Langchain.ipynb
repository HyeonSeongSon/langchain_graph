{
 "cells": [
  {
   "cell_type": "code",
   "execution_count": 6,
   "id": "1ac4dfeb",
   "metadata": {},
   "outputs": [],
   "source": [
    "from langchain_core.messages import AIMessage, HumanMessage, SystemMessage\n",
    "from langchain_openai import ChatOpenAI\n",
    "from dotenv import load_dotenv\n",
    "\n",
    "load_dotenv()\n",
    "\n",
    "model = ChatOpenAI(model='gpt-4o-mini', temperature=0)"
   ]
  },
  {
   "cell_type": "markdown",
   "id": "a62fbc65",
   "metadata": {},
   "source": [
    "### Chat Model"
   ]
  },
  {
   "cell_type": "code",
   "execution_count": 10,
   "id": "112b1c5f",
   "metadata": {},
   "outputs": [
    {
     "name": "stdout",
     "output_type": "stream",
     "text": [
      "response : content='네, 당신의 이름은 손이라고 하셨습니다. 어떻게 도와드릴까요?' additional_kwargs={'refusal': None} response_metadata={'token_usage': {'completion_tokens': 19, 'prompt_tokens': 60, 'total_tokens': 79, 'completion_tokens_details': {'accepted_prediction_tokens': 0, 'audio_tokens': 0, 'reasoning_tokens': 0, 'rejected_prediction_tokens': 0}, 'prompt_tokens_details': {'audio_tokens': 0, 'cached_tokens': 0}}, 'model_name': 'gpt-4o-mini-2024-07-18', 'system_fingerprint': 'fp_51db84afab', 'id': 'chatcmpl-CQR9aBmO7iD4Qyrxumk0uEkgv9I8A', 'service_tier': 'default', 'finish_reason': 'stop', 'logprobs': None} id='run--ba64c480-1fce-4360-8371-6ef1d30ff5e8-0' usage_metadata={'input_tokens': 60, 'output_tokens': 19, 'total_tokens': 79, 'input_token_details': {'audio': 0, 'cache_read': 0}, 'output_token_details': {'audio': 0, 'reasoning': 0}}\n",
      "content : 네, 당신의 이름은 손이라고 하셨습니다. 어떻게 도와드릴까요?\n"
     ]
    }
   ],
   "source": [
    "# 일반 챗\n",
    "messages = [\n",
    "  SystemMessage('당신은 도우미 어시스턴트입니다.'),\n",
    "  HumanMessage('안녕하세요! 저는 손이라고 합니다.'),\n",
    "  AIMessage(content='안녕하세요 손님! 어떤 도움이 필요하신가요?'),\n",
    "  HumanMessage(content='제 이름을 아시나요?')\n",
    "]\n",
    "\n",
    "ai_message = model.invoke(messages)\n",
    "print(f'response : {ai_message}')\n",
    "print(f'content : {ai_message.content}')"
   ]
  },
  {
   "cell_type": "code",
   "execution_count": null,
   "id": "b3d3eff0",
   "metadata": {},
   "outputs": [
    {
     "name": "stdout",
     "output_type": "stream",
     "text": [
      "안녕하세요! 어떻게 도와드릴까요?"
     ]
    }
   ],
   "source": [
    "# 스트리밍\n",
    "messages = [\n",
    "  SystemMessage('당신은 도우미 어시스턴트입니다.'),\n",
    "  HumanMessage('안녕하세요!'),\n",
    "]\n",
    "\n",
    "for chunk in model.stream(messages):\n",
    "  print(chunk.content, end=\"\", flush=True)"
   ]
  },
  {
   "cell_type": "markdown",
   "id": "3a711af0",
   "metadata": {},
   "source": [
    "### Prompt template"
   ]
  },
  {
   "cell_type": "markdown",
   "id": "c9ef32ba",
   "metadata": {},
   "source": [
    "```\n",
    "PromptTemplate\n",
    "```\n",
    "문자열 일부를 대체하는 것뿐, 내부에서 LLM을 호출하지 않음"
   ]
  },
  {
   "cell_type": "code",
   "execution_count": null,
   "id": "dac530ad",
   "metadata": {},
   "outputs": [
    {
     "name": "stdout",
     "output_type": "stream",
     "text": [
      "다음 요리의 레시피를 생각해 주세요.\n",
      "\n",
      "요리명: 카레\n"
     ]
    }
   ],
   "source": [
    "from langchain_core.prompts import PromptTemplate\n",
    "\n",
    "prompt = PromptTemplate.from_template(\"\"\"다음 요리의 레시피를 생각해 주세요.\n",
    "\n",
    "요리명: {dish}\"\"\")\n",
    "\n",
    "prompt_value = prompt.invoke({'dish':'카레'})\n",
    "print(prompt_value.text)"
   ]
  },
  {
   "cell_type": "markdown",
   "id": "5a94d94d",
   "metadata": {},
   "source": [
    "```\n",
    "ChatPromptTemplate\n",
    "```\n",
    "채팅 형식 모뎅에 대응 시킴"
   ]
  },
  {
   "cell_type": "code",
   "execution_count": null,
   "id": "ac120d3f",
   "metadata": {},
   "outputs": [
    {
     "name": "stdout",
     "output_type": "stream",
     "text": [
      "messages=[SystemMessage(content='사용자가 입력한 요리의 레시피를 생각해 주세요.', additional_kwargs={}, response_metadata={}), HumanMessage(content='카레', additional_kwargs={}, response_metadata={})]\n"
     ]
    }
   ],
   "source": [
    "from langchain_core.prompts import ChatPromptTemplate\n",
    "\n",
    "prompt = ChatPromptTemplate(\n",
    "  [\n",
    "    ('system', '사용자가 입력한 요리의 레시피를 생각해 주세요.'),\n",
    "    ('human', '{dish}'),\n",
    "  ]\n",
    ")\n",
    "\n",
    "prompt_value = prompt.invoke({'dish':'카레'})\n",
    "print(prompt_value)"
   ]
  },
  {
   "cell_type": "markdown",
   "id": "8d8edaf5",
   "metadata": {},
   "source": [
    "```\n",
    "MessagesPlaceholder\n",
    "```\n",
    "대화 이력처럼 여러 메세지가 들어가는 플레이스홀더를 두고 싶은 경우가 많을때 사용"
   ]
  },
  {
   "cell_type": "code",
   "execution_count": null,
   "id": "847206ed",
   "metadata": {},
   "outputs": [
    {
     "name": "stdout",
     "output_type": "stream",
     "text": [
      "messages=[SystemMessage(content='당신은 도우미 어시스턴트입니다.', additional_kwargs={}, response_metadata={}), HumanMessage(content='안녕하세요! 저는 손이라고 합니다.', additional_kwargs={}, response_metadata={}), AIMessage(content='안녕하세요, 손님! 무엇을 도와드릴까요?', additional_kwargs={}, response_metadata={}), HumanMessage(content='제 이름을 아시나요?', additional_kwargs={}, response_metadata={})]\n"
     ]
    }
   ],
   "source": [
    "from langchain_core.messages import AIMessage, HumanMessage\n",
    "from langchain_core.prompts import ChatPromptTemplate,MessagesPlaceholder\n",
    "\n",
    "prompt = ChatPromptTemplate(\n",
    "  [\n",
    "    ('system', '당신은 도우미 어시스턴트입니다.'),\n",
    "    MessagesPlaceholder('chat_history', optional=True),\n",
    "    ('human', '{input}'),\n",
    "  ]\n",
    ")\n",
    "\n",
    "prompt_value = prompt.invoke(\n",
    "  {\n",
    "    'chat_history': [\n",
    "      HumanMessage(content='안녕하세요! 저는 손이라고 합니다.'),\n",
    "      AIMessage('안녕하세요, 손님! 무엇을 도와드릴까요?'),\n",
    "    ],\n",
    "    'input': '제 이름을 아시나요?'\n",
    "  }\n",
    ")\n",
    "print(prompt_value)"
   ]
  },
  {
   "cell_type": "markdown",
   "id": "410d4e99",
   "metadata": {},
   "source": [
    "### Output parser"
   ]
  },
  {
   "cell_type": "code",
   "execution_count": null,
   "id": "e4f4230b",
   "metadata": {},
   "outputs": [],
   "source": [
    "from pydantic import BaseModel, Field\n",
    "\n",
    "# 재료 목록과 순서 정의\n",
    "class Recipe(BaseModel):\n",
    "  ingredients: list[str] = Field(description=\"ingredients of the dish\")\n",
    "  steps: list[str] = Field(description=\"steps to make the dish\")"
   ]
  },
  {
   "cell_type": "code",
   "execution_count": null,
   "id": "e9253d0d",
   "metadata": {},
   "outputs": [],
   "source": [
    "from langchain_core.output_parsers import PydanticOutputParser\n",
    "\n",
    "# 클래스를 제공하여 PydanticOutputParser를 생성\n",
    "output_parser = PydanticOutputParser(pydantic_object=Recipe)"
   ]
  },
  {
   "cell_type": "code",
   "execution_count": null,
   "id": "f7b62b46",
   "metadata": {},
   "outputs": [
    {
     "name": "stdout",
     "output_type": "stream",
     "text": [
      "The output should be formatted as a JSON instance that conforms to the JSON schema below.\n",
      "\n",
      "As an example, for the schema {\"properties\": {\"foo\": {\"title\": \"Foo\", \"description\": \"a list of strings\", \"type\": \"array\", \"items\": {\"type\": \"string\"}}}, \"required\": [\"foo\"]}\n",
      "the object {\"foo\": [\"bar\", \"baz\"]} is a well-formatted instance of the schema. The object {\"properties\": {\"foo\": [\"bar\", \"baz\"]}} is not well-formatted.\n",
      "\n",
      "Here is the output schema:\n",
      "```\n",
      "{\"properties\": {\"ingredients\": {\"description\": \"ingredients of the dish\", \"items\": {\"type\": \"string\"}, \"title\": \"Ingredients\", \"type\": \"array\"}, \"steps\": {\"description\": \"steps to make the dish\", \"items\": {\"type\": \"string\"}, \"title\": \"Steps\", \"type\": \"array\"}}, \"required\": [\"ingredients\", \"steps\"]}\n",
      "```\n"
     ]
    }
   ],
   "source": [
    "# 프롬프트에 출력할 출력 형식 설명문 작성\n",
    "format_instructions = output_parser.get_format_instructions()\n",
    "print(format_instructions)"
   ]
  },
  {
   "cell_type": "code",
   "execution_count": 36,
   "id": "d47b1439",
   "metadata": {},
   "outputs": [],
   "source": [
    "from langchain_core.prompts import ChatPromptTemplate\n",
    "\n",
    "# format_instructions를 사용한 ChatPromptTemplate 생성\n",
    "prompt = ChatPromptTemplate.from_messages(\n",
    "    [\n",
    "        (\n",
    "            \"system\",\n",
    "            \"사용자가 입력한 요리의 레시피를 생각해 주세요.\\n\\n\"\n",
    "            \"{format_instructions}\",\n",
    "        ),\n",
    "        (\"human\", \"{dish}\"),\n",
    "    ]\n",
    ")\n",
    "\n",
    "prompt_with_format_instructions = prompt.partial(\n",
    "    format_instructions=format_instructions\n",
    ")"
   ]
  },
  {
   "cell_type": "code",
   "execution_count": 37,
   "id": "8fea4419",
   "metadata": {},
   "outputs": [
    {
     "name": "stdout",
     "output_type": "stream",
     "text": [
      "=== role: system ===\n",
      "사용자가 입력한 요리의 레시피를 생각해 주세요.\n",
      "\n",
      "The output should be formatted as a JSON instance that conforms to the JSON schema below.\n",
      "\n",
      "As an example, for the schema {\"properties\": {\"foo\": {\"title\": \"Foo\", \"description\": \"a list of strings\", \"type\": \"array\", \"items\": {\"type\": \"string\"}}}, \"required\": [\"foo\"]}\n",
      "the object {\"foo\": [\"bar\", \"baz\"]} is a well-formatted instance of the schema. The object {\"properties\": {\"foo\": [\"bar\", \"baz\"]}} is not well-formatted.\n",
      "\n",
      "Here is the output schema:\n",
      "```\n",
      "{\"properties\": {\"ingredients\": {\"description\": \"ingredients of the dish\", \"items\": {\"type\": \"string\"}, \"title\": \"Ingredients\", \"type\": \"array\"}, \"steps\": {\"description\": \"steps to make the dish\", \"items\": {\"type\": \"string\"}, \"title\": \"Steps\", \"type\": \"array\"}}, \"required\": [\"ingredients\", \"steps\"]}\n",
      "```\n",
      "=== role: user ===\n",
      "카레\n"
     ]
    }
   ],
   "source": [
    "prompt_value = prompt_with_format_instructions.invoke({\"dish\": \"카레\"})\n",
    "print(\"=== role: system ===\")\n",
    "print(prompt_value.messages[0].content)\n",
    "print(\"=== role: user ===\")\n",
    "print(prompt_value.messages[1].content)"
   ]
  },
  {
   "cell_type": "code",
   "execution_count": 38,
   "id": "3680231f",
   "metadata": {},
   "outputs": [
    {
     "name": "stdout",
     "output_type": "stream",
     "text": [
      "{\n",
      "  \"ingredients\": [\n",
      "    \"닭고기 500g\",\n",
      "    \"양파 1개\",\n",
      "    \"감자 2개\",\n",
      "    \"당근 1개\",\n",
      "    \"카레 가루 3큰술\",\n",
      "    \"식용유 2큰술\",\n",
      "    \"소금 약간\",\n",
      "    \"후추 약간\",\n",
      "    \"물 4컵\"\n",
      "  ],\n",
      "  \"steps\": [\n",
      "    \"양파를 잘게 썰고, 감자와 당근은 큐브 모양으로 자릅니다.\",\n",
      "    \"냄비에 식용유를 두르고 양파를 볶아 투명해질 때까지 볶습니다.\",\n",
      "    \"닭고기를 넣고 겉면이 노릇해질 때까지 볶습니다.\",\n",
      "    \"감자와 당근을 추가하고 함께 볶습니다.\",\n",
      "    \"카레 가루를 넣고 잘 섞은 후 물을 부어 끓입니다.\",\n",
      "    \"끓기 시작하면 중약불로 줄이고 20분 정도 끓입니다.\",\n",
      "    \"소금과 후추로 간을 맞춘 후 불을 끄고 5분 정도 둡니다.\",\n",
      "    \"밥과 함께 서빙합니다.\"\n",
      "  ]\n",
      "}\n"
     ]
    }
   ],
   "source": [
    "from langchain_openai import ChatOpenAI\n",
    "\n",
    "model = ChatOpenAI(model=\"gpt-4o-mini\", temperature=0)\n",
    "\n",
    "ai_message = model.invoke(prompt_value)\n",
    "print(ai_message.content)"
   ]
  },
  {
   "cell_type": "code",
   "execution_count": 39,
   "id": "714de839",
   "metadata": {},
   "outputs": [
    {
     "name": "stdout",
     "output_type": "stream",
     "text": [
      "<class '__main__.Recipe'>\n",
      "ingredients=['닭고기 500g', '양파 1개', '감자 2개', '당근 1개', '카레 가루 3큰술', '식용유 2큰술', '소금 약간', '후추 약간', '물 4컵'] steps=['양파를 잘게 썰고, 감자와 당근은 큐브 모양으로 자릅니다.', '냄비에 식용유를 두르고 양파를 볶아 투명해질 때까지 볶습니다.', '닭고기를 넣고 겉면이 노릇해질 때까지 볶습니다.', '감자와 당근을 추가하고 함께 볶습니다.', '카레 가루를 넣고 잘 섞은 후 물을 부어 끓입니다.', '끓기 시작하면 중약불로 줄이고 20분 정도 끓입니다.', '소금과 후추로 간을 맞춘 후 불을 끄고 5분 정도 둡니다.', '밥과 함께 서빙합니다.']\n"
     ]
    }
   ],
   "source": [
    "recipe = output_parser.invoke(ai_message)\n",
    "print(type(recipe))\n",
    "print(recipe)"
   ]
  },
  {
   "cell_type": "markdown",
   "id": "96eddf8f",
   "metadata": {},
   "source": [
    "### StrOutputParser"
   ]
  },
  {
   "cell_type": "code",
   "execution_count": 40,
   "id": "66057deb",
   "metadata": {},
   "outputs": [
    {
     "name": "stdout",
     "output_type": "stream",
     "text": [
      "<class 'str'>\n",
      "안녕하세요. 저는 AI 어시스턴트입니다.\n"
     ]
    }
   ],
   "source": [
    "from langchain_core.messages import AIMessage\n",
    "from langchain_core.output_parsers import StrOutputParser\n",
    "\n",
    "output_parser = StrOutputParser()\n",
    "\n",
    "ai_message = AIMessage(content=\"안녕하세요. 저는 AI 어시스턴트입니다.\")\n",
    "ai_message = output_parser.invoke(ai_message)\n",
    "print(type(ai_message))\n",
    "print(ai_message)"
   ]
  },
  {
   "cell_type": "markdown",
   "id": "5d301807",
   "metadata": {},
   "source": [
    "### Chain-LangChain Expression Language (LCEL)"
   ]
  },
  {
   "cell_type": "markdown",
   "id": "d6e17cd0",
   "metadata": {},
   "source": [
    "단순 LLM에 입출력 뿐만 아니라 처리를 연쇄적으로 하고 싶은 경우가 있음\n",
    "```\n",
    "- prompt template을 채우고, 그 결과를 Chat model에 제공한 후, 그 결과를 Python 객체로 변환하고 싶다.\n",
    "- Zero-shot CoT 프롬프팅으로 단계별로 생각하게하고, 그 결과를 요약하고 싶다.\n",
    "- LLM의 출력을 얻은 후에, 그 내요이 서비스 정책에 위반되지 않는지 확인하고 싶다.\n",
    "- LLM의 출력 결과를 바탕으로 SQL을 실행하여 데이터를 분석하고 싶다.\n",
    "```\n",
    "이러한 처리의 연쇄를 구현한 것이 LangChain의 'Chain'\n",
    "\n",
    "```\n",
    "LCEL은 LangChain에 Chain을 기술하는 방법\n",
    "```"
   ]
  },
  {
   "cell_type": "code",
   "execution_count": 41,
   "id": "ccc13c73",
   "metadata": {},
   "outputs": [],
   "source": [
    "# prompt와 model 연결\n",
    "from langchain_core.prompts import ChatPromptTemplate\n",
    "from langchain_openai import ChatOpenAI\n",
    "\n",
    "prompt = ChatPromptTemplate(\n",
    "  [\n",
    "    ('system','사용자가 입력한 요리의 레시피를 생각해 주세요.'),\n",
    "    ('human', '{dish}'),\n",
    "  ]\n",
    ")\n",
    "model = ChatOpenAI(model='gpt-4o-mini', temperature=0)"
   ]
  },
  {
   "cell_type": "code",
   "execution_count": 42,
   "id": "fa4a3eaf",
   "metadata": {},
   "outputs": [],
   "source": [
    "chain = prompt | model"
   ]
  },
  {
   "cell_type": "code",
   "execution_count": 43,
   "id": "a01a83cd",
   "metadata": {},
   "outputs": [
    {
     "name": "stdout",
     "output_type": "stream",
     "text": [
      "카레는 다양한 재료와 향신료를 사용하여 만드는 맛있는 요리입니다. 아래는 기본적인 카레 레시피입니다.\n",
      "\n",
      "### 재료\n",
      "- 고기 (닭고기, 소고기, 양고기 등) 300g\n",
      "- 양파 1개\n",
      "- 감자 1개\n",
      "- 당근 1개\n",
      "- 카레 가루 2-3 큰술\n",
      "- 식용유 2 큰술\n",
      "- 물 3컵\n",
      "- 소금, 후추 약간\n",
      "- 선택 재료: 마늘, 생강, 피망, 버섯 등\n",
      "\n",
      "### 조리 방법\n",
      "1. **재료 손질**: 고기는 한 입 크기로 자르고, 양파는 다지고, 감자와 당근은 깍둑썰기 합니다. 선택 재료가 있다면 함께 손질합니다.\n",
      "\n",
      "2. **양파 볶기**: 큰 냄비에 식용유를 두르고 중불에서 다진 양파를 넣고 투명해질 때까지 볶습니다.\n",
      "\n",
      "3. **고기 추가**: 양파가 볶아지면 고기를 넣고 겉면이 익을 때까지 볶습니다.\n",
      "\n",
      "4. **채소 추가**: 감자와 당근을 넣고 함께 볶아줍니다. 선택 재료가 있다면 이때 추가합니다.\n",
      "\n",
      "5. **물 붓기**: 모든 재료가 잘 섞이면 물을 붓고 끓입니다. 끓기 시작하면 불을 줄이고 중약불에서 15-20분 정도 끓입니다.\n",
      "\n",
      "6. **카레 가루 추가**: 카레 가루를 넣고 잘 섞은 후, 다시 10분 정도 끓입니다. 필요에 따라 소금과 후추로 간을 맞춥니다.\n",
      "\n",
      "7. **완성**: 카레가 걸쭉해지면 불을 끄고, 밥과 함께 서빙합니다.\n",
      "\n",
      "### 팁\n",
      "- 카레는 시간이 지날수록 맛이 깊어지므로, 하루 정도 숙성시키면 더욱 맛있습니다.\n",
      "- 다양한 재료를 추가하여 나만의 카레를 만들어 보세요!\n",
      "\n",
      "맛있게 드세요!\n"
     ]
    }
   ],
   "source": [
    "ai_message = chain.invoke({'dish':'카레'})\n",
    "print(ai_message.content)"
   ]
  },
  {
   "cell_type": "markdown",
   "id": "9f6c06e1",
   "metadata": {},
   "source": [
    "```\n",
    "StrOutputParser를 체인에 추가\n",
    "```"
   ]
  },
  {
   "cell_type": "code",
   "execution_count": null,
   "id": "cad72fda",
   "metadata": {},
   "outputs": [
    {
     "name": "stdout",
     "output_type": "stream",
     "text": [
      "Z카레는 일본식 카레의 한 종류로, 일반적으로 부드러운 카레 소스와 다양한 재료가 어우러진 요리입니다. 아래는 Z카레의 기본 레시피입니다.\n",
      "\n",
      "### 재료\n",
      "- 카레 루(일본식 카레 가루) 1팩\n",
      "- 닭고기 또는 소고기 300g (한입 크기로 자른 것)\n",
      "- 감자 1개 (깍둑썰기)\n",
      "- 당근 1개 (깍둑썰기)\n",
      "- 양파 1개 (채썰기)\n",
      "- 물 4컵\n",
      "- 식용유 1큰술\n",
      "- 소금, 후추 (기호에 따라)\n",
      "\n",
      "### 조리 방법\n",
      "1. **재료 준비**: 모든 재료를 손질하여 준비합니다. 고기는 한입 크기로 자르고, 감자와 당근은 깍둑썰기, 양파는 채썰어 둡니다.\n",
      "\n",
      "2. **고기 볶기**: 큰 냄비에 식용유를 두르고 중불에서 양파를 볶아 투명해질 때까지 볶습니다. 그 후, 고기를 넣고 겉면이 노릇해질 때까지 볶습니다.\n",
      "\n",
      "3. **채소 추가**: 볶은 고기에 감자와 당근을 추가하고, 1-2분 더 볶습니다.\n",
      "\n",
      "4. **물 붓기**: 냄비에 물을 붓고 끓입니다. 끓기 시작하면 불을 줄이고, 뚜껑을 덮고 약 15-20분간 끓입니다. 이때 재료가 부드러워질 때까지 조리합니다.\n",
      "\n",
      "5. **카레 루 추가**: 카레 루를 조금씩 넣으면서 잘 저어줍니다. 카레 루가 완전히 녹을 때까지 저어주고, 다시 끓입니다.\n",
      "\n",
      "6. **간 맞추기**: 소금과 후추로 간을 맞추고, 원하는 농도가 될 때까지 약한 불에서 5-10분 더 끓입니다.\n",
      "\n",
      "7. **서빙**: 완성된 Z카레를 밥 위에 얹어 서빙합니다. 기호에 따라 피클이나 샐러드를 곁들여도 좋습니다.\n",
      "\n",
      "맛있게 드세요!\n"
     ]
    }
   ],
   "source": [
    "from langchain_core.output_parsers import StrOutputParser\n",
    "\n",
    "chain = prompt | model | StrOutputParser()\n",
    "output = chain.invoke({'dish':'z카레'})\n",
    "print(output)"
   ]
  },
  {
   "cell_type": "markdown",
   "id": "88c130cc",
   "metadata": {},
   "source": [
    "```\n",
    "PydanticOutputParser를 사용한 체인\n",
    "```"
   ]
  },
  {
   "cell_type": "code",
   "execution_count": 48,
   "id": "1a105ad1",
   "metadata": {},
   "outputs": [],
   "source": [
    "# Recipe 클래스 정의\n",
    "from langchain_core.output_parsers import PydanticOutputParser\n",
    "from pydantic import BaseModel,Field\n",
    "\n",
    "class Recipe(BaseModel):\n",
    "  ingredients: list[str] = Field(description=\"ingredients of the dish\")\n",
    "  steps: list[str] = Field(description=\"steps to make the dish\")\n",
    "\n",
    "output_parser = PydanticOutputParser(pydantic_object=Recipe)"
   ]
  },
  {
   "cell_type": "code",
   "execution_count": null,
   "id": "5313358c",
   "metadata": {},
   "outputs": [],
   "source": [
    "# 체인으로 연결\n",
    "from langchain_core.prompts import ChatMessagePromptTemplate\n",
    "from langchain_openai import ChatOpenAI\n",
    "\n",
    "prompt = ChatPromptTemplate(\n",
    "  [\n",
    "    ('system', '사용자가 입력한 요리의 레시피를 생각해 주세요.\\n\\n{format_instructions}'),\n",
    "    ('human', '{dish}'),\n",
    "  ]\n",
    ")\n",
    "\n",
    "prompt_with_format_instructions = prompt.partial(\n",
    "  format_instructions=output_parser.get_format_instructions()\n",
    ")\n",
    "\n",
    "model = ChatOpenAI(model='gpt-4o-mini', temperature=0).bind(\n",
    "  response_format={'type': 'json_object'}\n",
    ")"
   ]
  },
  {
   "cell_type": "code",
   "execution_count": 50,
   "id": "b8342e58",
   "metadata": {},
   "outputs": [
    {
     "name": "stdout",
     "output_type": "stream",
     "text": [
      "<class '__main__.Recipe'>\n",
      "ingredients=['닭고기 500g', '양파 1개', '감자 2개', '당근 1개', '카레 가루 3큰술', '식용유 2큰술', '소금 약간', '후추 약간', '물 4컵'] steps=['닭고기를 한 입 크기로 자르고, 소금과 후추로 간을 한다.', '양파는 다지고, 감자와 당근은 깍둑썰기로 준비한다.', '팬에 식용유를 두르고 다진 양파를 넣어 볶는다.', '양파가 투명해지면 닭고기를 넣고 볶는다.', '닭고기가 익으면 감자와 당근을 넣고 함께 볶는다.', '카레 가루를 넣고 잘 섞은 후 물을 부어 끓인다.', '중불에서 20분 정도 끓여서 재료가 부드러워지면 완성한다.']\n"
     ]
    }
   ],
   "source": [
    "chain = prompt_with_format_instructions | model | output_parser\n",
    "\n",
    "recipe = chain.invoke({'dish':'카레'})\n",
    "print(type(recipe))\n",
    "print(recipe)"
   ]
  }
 ],
 "metadata": {
  "kernelspec": {
   "display_name": "skn_after_study",
   "language": "python",
   "name": "python3"
  },
  "language_info": {
   "codemirror_mode": {
    "name": "ipython",
    "version": 3
   },
   "file_extension": ".py",
   "mimetype": "text/x-python",
   "name": "python",
   "nbconvert_exporter": "python",
   "pygments_lexer": "ipython3",
   "version": "3.12.11"
  }
 },
 "nbformat": 4,
 "nbformat_minor": 5
}
